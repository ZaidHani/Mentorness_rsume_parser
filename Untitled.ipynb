{
 "cells": [
  {
   "cell_type": "markdown",
   "id": "7a3a8f4d-8b50-4222-8cd7-d2fe12f31712",
   "metadata": {},
   "source": [
    "# Resume Parser for Extracting Contact Information"
   ]
  },
  {
   "cell_type": "code",
   "execution_count": 16,
   "id": "e571b361-ba67-463c-97dd-ff98678ea1f1",
   "metadata": {},
   "outputs": [],
   "source": [
    "import re\n",
    "import pandas as pd\n",
    "\n",
    "import spacy\n",
    "NER = spacy.load(\"en_core_web_lg\")\n",
    "\n",
    "import PyPDF2\n",
    "import docx2txt\n",
    "import glob"
   ]
  },
  {
   "cell_type": "markdown",
   "id": "34201920-ab2e-4780-8722-cb68849b6d98",
   "metadata": {},
   "source": [
    "### Returning the Number"
   ]
  },
  {
   "cell_type": "code",
   "execution_count": 17,
   "id": "8e473980-cd59-43ec-a75f-b9e1ea909a61",
   "metadata": {},
   "outputs": [],
   "source": [
    "# potential regex text\n",
    "# \"^\\\\+?\\\\d{1,4}?[-.\\\\s]?\\\\(?\\\\d{1,3}?\\\\)?[-.\\\\s]?\\\\d{1,4}[-.\\\\s]?\\\\d{1,4}[-.\\\\s]?\\\\d{1,9}$\"\n",
    "# \"\\b\\d{3}[-\\.\\s]?\\d{3}[-\\.\\s]?\\d{4}\\b\"\n",
    "# \"\\+?\\d{1,3}[\\s.-]\\d{3,4}[\\s.-]\\d{3,8}\"\n",
    "# \"(\\d{3}[-\\.\\s]??\\d{3}[-\\.\\s]??\\d{4}|\\(\\d{3}\\)\\s*\\d{3}[-\\.\\s]??\\d{4}|\\d{3}[-\\.\\s]??\\d{4})\"\n",
    "# r\"\\+?\\d{1,4}(?:[-.]\\d{3}){2,3}\"\n",
    "\n",
    "# these return number only, with no - or ' ' or anything.\n",
    "#r\"\\d{8,14}\"\n",
    "#r\"\\+?\\d{8,14}\"\n",
    "\n",
    "# this one works but only with numbers with dashes\n",
    "# \"\\+?\\d{1,4}[\\s.-]\\d{3,4}[\\s.-]\\d{3,8}\"\n",
    "\n",
    "# best one so far\n",
    "# \"\\+?\\d{1,4}[-.\\s]?\\d{3,4}[-.\\s]?\\d{3,8}\"\n",
    "# some cvs are weird so I came up with this one\n",
    "# \"\\+?\\d{2,4}[-.\\s]?\\d{2,4}[-.\\s]?\\d{2,4}[-.\\s]?\\d{2,4}\""
   ]
  },
  {
   "cell_type": "code",
   "execution_count": 3,
   "id": "4f3d7201-bb3d-4ac7-8fbf-b5064c0b2332",
   "metadata": {},
   "outputs": [],
   "source": [
    "def get_phone_numbers(text):\n",
    "    phone_regex = \"\\+?\\d{2,4}[-.\\s]?\\d{2,4}[-.\\s]?\\d{2,4}[-.\\s]?\\d{2,4}\"\n",
    "    match = re.search(phone_regex, text)\n",
    "    if match:\n",
    "        return match.group(0)\n",
    "    else:\n",
    "        return None      "
   ]
  },
  {
   "cell_type": "code",
   "execution_count": 18,
   "id": "9a0f599d-1215-4ac4-9418-969c7f2f204a",
   "metadata": {},
   "outputs": [
    {
     "data": {
      "text/plain": [
       "'+962 78 7184 888'"
      ]
     },
     "execution_count": 18,
     "metadata": {},
     "output_type": "execute_result"
    }
   ],
   "source": [
    "get_phone_numbers('+962 78 7184 888, this is the phone number for zaid hani allwansah')"
   ]
  },
  {
   "cell_type": "markdown",
   "id": "fca1d8e5-258b-48cb-9036-af84f311cf5a",
   "metadata": {},
   "source": [
    "### Returning the Email"
   ]
  },
  {
   "cell_type": "code",
   "execution_count": 19,
   "id": "99415f45-b064-402c-a302-3e147076abdc",
   "metadata": {},
   "outputs": [],
   "source": [
    "def get_email(text):\n",
    "    email_regex = r'[\\w\\.-]+@[\\w\\.-]+'\n",
    "    match = re.search(email_regex, text)\n",
    "    if match:\n",
    "        return match.group(0)\n",
    "    else:\n",
    "        return None"
   ]
  },
  {
   "cell_type": "code",
   "execution_count": 20,
   "id": "0fb9e1bc-6ec5-43ab-bc4d-1c6d3200062d",
   "metadata": {},
   "outputs": [
    {
     "data": {
      "text/plain": [
       "'allwazaid1@gmail.com'"
      ]
     },
     "execution_count": 20,
     "metadata": {},
     "output_type": "execute_result"
    }
   ],
   "source": [
    "get_email('allwazaid1@gmail.com, this is the email for zaid hani allwansah')"
   ]
  },
  {
   "cell_type": "markdown",
   "id": "2a72738d-0526-49b8-9c0b-f7e8b87daa0c",
   "metadata": {},
   "source": [
    "### Returning the Names using Spacy"
   ]
  },
  {
   "cell_type": "markdown",
   "id": "fffebb16-03bd-4c09-ab06-2e0136e6ea8e",
   "metadata": {},
   "source": [
    "returning the names with regex is extremely hard and very inefficient, that's why I've opted to spacy."
   ]
  },
  {
   "cell_type": "code",
   "execution_count": 21,
   "id": "985966e9-605e-4d4a-b8d0-43ba0411aa2c",
   "metadata": {},
   "outputs": [],
   "source": [
    "def get_name(text):\n",
    "    x = NER(text)\n",
    "    return x.ents[0].text"
   ]
  },
  {
   "cell_type": "markdown",
   "id": "02e32c1f-e20f-468f-ae83-c9f3fcae662e",
   "metadata": {},
   "source": [
    "### Reading PDF Files"
   ]
  },
  {
   "cell_type": "code",
   "execution_count": 22,
   "id": "c4ec2b3b-b063-4756-8349-c59af8879679",
   "metadata": {},
   "outputs": [],
   "source": [
    "def read_pdf(file):\n",
    "    info_list = []\n",
    "    x = PyPDF2.PdfReader(file).pages\n",
    "    text = ''\n",
    "    try:\n",
    "        for i in range(5):\n",
    "            text += x[i].extract_text()\n",
    "    except Exception as e:\n",
    "        if str(e)=='sequence index out of range':\n",
    "            print('-'*30,f'Scanned the {file} PDF File!','-'*30)\n",
    "        else:\n",
    "            print(e)\n",
    "        text = text.replace('\\n','  ')\n",
    "        email = get_email(text)\n",
    "        name = get_name(text)\n",
    "        phone = get_phone_numbers(text)\n",
    "            \n",
    "        info_list.append(name)\n",
    "        info_list.append(phone)\n",
    "        info_list.append(email)\n",
    "        df.loc[len(df.index)] = info_list"
   ]
  },
  {
   "cell_type": "markdown",
   "id": "63c4cfbe-0556-4029-bbab-6bfee6e7ac75",
   "metadata": {},
   "source": [
    "### Reading Word Files"
   ]
  },
  {
   "cell_type": "code",
   "execution_count": 23,
   "id": "39caa8c0-ab51-4a43-bfc2-43e0914ba3eb",
   "metadata": {},
   "outputs": [],
   "source": [
    "def read_word(file):\n",
    "    info_list = []\n",
    "    \n",
    "    text = docx2txt.process(file)\n",
    "    text = text.replace('\\n','  ')\n",
    "    email = get_email(text)\n",
    "    name = get_name(text)\n",
    "    phone = get_phone_numbers(text)\n",
    "            \n",
    "    info_list.append(name)\n",
    "    info_list.append(phone)\n",
    "    info_list.append(email)\n",
    "    df.loc[len(df.index)] = info_list\n",
    "    print('-'*30,f'Scanned the {file} Word File!','-'*30)"
   ]
  },
  {
   "cell_type": "markdown",
   "id": "44699a5a-3fe3-48f1-9b3e-ebaef8b0f916",
   "metadata": {},
   "source": [
    "### Reading Text Files"
   ]
  },
  {
   "cell_type": "code",
   "execution_count": 24,
   "id": "cad41e44-6cb6-4419-96c6-a33cad5f3356",
   "metadata": {},
   "outputs": [],
   "source": [
    "def read_txt(file):\n",
    "    info_list = []\n",
    "    with open('resumes/file.txt', 'r') as f:\n",
    "        text = f.read()\n",
    "        f.close\n",
    "    text = text.replace('\\n','  ')\n",
    "    email = get_email(text)\n",
    "    name = get_name(text)\n",
    "    phone = get_phone_numbers(text)\n",
    "            \n",
    "    info_list.append(name)\n",
    "    info_list.append(phone)\n",
    "    info_list.append(email)\n",
    "    df.loc[len(df.index)] = info_list\n",
    "    print('-'*30,f'Scanned the {file} Text File!','-'*30)"
   ]
  },
  {
   "cell_type": "markdown",
   "id": "9242b859-8965-457e-96e7-7cdc8f399262",
   "metadata": {},
   "source": [
    "### Processing the files"
   ]
  },
  {
   "cell_type": "code",
   "execution_count": 25,
   "id": "541807df-8149-4f4b-b9be-ad223d3e4a11",
   "metadata": {},
   "outputs": [
    {
     "data": {
      "text/plain": [
       "['resumes\\\\CV-4.pdf',\n",
       " 'resumes\\\\file.txt',\n",
       " 'resumes\\\\functionalSample.pdf',\n",
       " 'resumes\\\\MAHMOUD-CSV.pdf',\n",
       " 'resumes\\\\Resume.docx',\n",
       " 'resumes\\\\Resume.pdf']"
      ]
     },
     "execution_count": 25,
     "metadata": {},
     "output_type": "execute_result"
    }
   ],
   "source": [
    "files = glob.glob('resumes/*')\n",
    "files"
   ]
  },
  {
   "cell_type": "code",
   "execution_count": 26,
   "id": "f8bd8846-f8de-44bd-842d-f607f4b18be5",
   "metadata": {},
   "outputs": [
    {
     "data": {
      "text/html": [
       "<div>\n",
       "<style scoped>\n",
       "    .dataframe tbody tr th:only-of-type {\n",
       "        vertical-align: middle;\n",
       "    }\n",
       "\n",
       "    .dataframe tbody tr th {\n",
       "        vertical-align: top;\n",
       "    }\n",
       "\n",
       "    .dataframe thead th {\n",
       "        text-align: right;\n",
       "    }\n",
       "</style>\n",
       "<table border=\"1\" class=\"dataframe\">\n",
       "  <thead>\n",
       "    <tr style=\"text-align: right;\">\n",
       "      <th></th>\n",
       "      <th>Candidate Name</th>\n",
       "      <th>Phone Number</th>\n",
       "      <th>Email Address</th>\n",
       "    </tr>\n",
       "  </thead>\n",
       "  <tbody>\n",
       "  </tbody>\n",
       "</table>\n",
       "</div>"
      ],
      "text/plain": [
       "Empty DataFrame\n",
       "Columns: [Candidate Name, Phone Number, Email Address]\n",
       "Index: []"
      ]
     },
     "execution_count": 26,
     "metadata": {},
     "output_type": "execute_result"
    }
   ],
   "source": [
    "df = pd.DataFrame(columns=['Candidate Name', 'Phone Number', 'Email Address'])\n",
    "df"
   ]
  },
  {
   "cell_type": "code",
   "execution_count": 27,
   "id": "676ca5a7-0912-4338-aaf9-249799fa89ed",
   "metadata": {},
   "outputs": [
    {
     "name": "stdout",
     "output_type": "stream",
     "text": [
      "------------------------------ Scanned the resumes\\CV-4.pdf PDF File! ------------------------------\n",
      "------------------------------ Scanned the resumes\\file.txt Text File! ------------------------------\n",
      "------------------------------ Scanned the resumes\\functionalSample.pdf PDF File! ------------------------------\n",
      "------------------------------ Scanned the resumes\\MAHMOUD-CSV.pdf PDF File! ------------------------------\n",
      "------------------------------ Scanned the resumes\\Resume.docx Word File! ------------------------------\n",
      "------------------------------ Scanned the resumes\\Resume.pdf PDF File! ------------------------------\n"
     ]
    }
   ],
   "source": [
    "for file in files:\n",
    "    if file[-3:]=='pdf':\n",
    "        read_pdf(file)\n",
    "    elif file[-4:]=='docx':\n",
    "        read_word(file)\n",
    "    elif file[-3:]=='txt':\n",
    "        read_txt(file)\n",
    "    else:\n",
    "        print('*'*30,f'{file} Is an Invalid File Format','*'*30)"
   ]
  },
  {
   "cell_type": "code",
   "execution_count": 28,
   "id": "3e2539d7-86a2-4001-b53d-ef06cacc8fb2",
   "metadata": {},
   "outputs": [
    {
     "data": {
      "text/html": [
       "<div>\n",
       "<style scoped>\n",
       "    .dataframe tbody tr th:only-of-type {\n",
       "        vertical-align: middle;\n",
       "    }\n",
       "\n",
       "    .dataframe tbody tr th {\n",
       "        vertical-align: top;\n",
       "    }\n",
       "\n",
       "    .dataframe thead th {\n",
       "        text-align: right;\n",
       "    }\n",
       "</style>\n",
       "<table border=\"1\" class=\"dataframe\">\n",
       "  <thead>\n",
       "    <tr style=\"text-align: right;\">\n",
       "      <th></th>\n",
       "      <th>Candidate Name</th>\n",
       "      <th>Phone Number</th>\n",
       "      <th>Email Address</th>\n",
       "    </tr>\n",
       "  </thead>\n",
       "  <tbody>\n",
       "    <tr>\n",
       "      <th>0</th>\n",
       "      <td>Mohammad Khaldoun</td>\n",
       "      <td>+962 792152523</td>\n",
       "      <td>kaljermy@gmail.com</td>\n",
       "    </tr>\n",
       "    <tr>\n",
       "      <th>1</th>\n",
       "      <td>John Faisal Doe</td>\n",
       "      <td>+962471545454</td>\n",
       "      <td>johndoe1@gmail.com</td>\n",
       "    </tr>\n",
       "    <tr>\n",
       "      <th>2</th>\n",
       "      <td>John W.  Smith</td>\n",
       "      <td>123 4567 8910</td>\n",
       "      <td>jwsmith@colostate.edu</td>\n",
       "    </tr>\n",
       "    <tr>\n",
       "      <th>3</th>\n",
       "      <td>Mahmoud</td>\n",
       "      <td>0791916343</td>\n",
       "      <td>None</td>\n",
       "    </tr>\n",
       "    <tr>\n",
       "      <th>4</th>\n",
       "      <td>MOHESEN</td>\n",
       "      <td>+9627 8718 4888</td>\n",
       "      <td>allgjdid1@gmail.com</td>\n",
       "    </tr>\n",
       "    <tr>\n",
       "      <th>5</th>\n",
       "      <td>Zaid Hani Allwansah</td>\n",
       "      <td>+962787184888</td>\n",
       "      <td>allwazaid1@gmail.com</td>\n",
       "    </tr>\n",
       "  </tbody>\n",
       "</table>\n",
       "</div>"
      ],
      "text/plain": [
       "        Candidate Name     Phone Number          Email Address\n",
       "0  Mohammad Khaldoun     +962 792152523     kaljermy@gmail.com\n",
       "1    John Faisal Doe      +962471545454     johndoe1@gmail.com\n",
       "2       John W.  Smith    123 4567 8910  jwsmith@colostate.edu\n",
       "3              Mahmoud       0791916343                   None\n",
       "4              MOHESEN  +9627 8718 4888    allgjdid1@gmail.com\n",
       "5  Zaid Hani Allwansah    +962787184888   allwazaid1@gmail.com"
      ]
     },
     "execution_count": 28,
     "metadata": {},
     "output_type": "execute_result"
    }
   ],
   "source": [
    "df"
   ]
  },
  {
   "cell_type": "code",
   "execution_count": 29,
   "id": "4dd34ac1-98e2-4e3c-bbff-eb3d5419ad94",
   "metadata": {},
   "outputs": [],
   "source": [
    "df.to_csv('Contact_information.csv', index=False)"
   ]
  }
 ],
 "metadata": {
  "kernelspec": {
   "display_name": "Python 3 (ipykernel)",
   "language": "python",
   "name": "python3"
  },
  "language_info": {
   "codemirror_mode": {
    "name": "ipython",
    "version": 3
   },
   "file_extension": ".py",
   "mimetype": "text/x-python",
   "name": "python",
   "nbconvert_exporter": "python",
   "pygments_lexer": "ipython3",
   "version": "3.11.5"
  }
 },
 "nbformat": 4,
 "nbformat_minor": 5
}
